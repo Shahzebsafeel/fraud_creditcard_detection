{
 "cells": [
  {
   "cell_type": "code",
   "execution_count": null,
   "metadata": {
    "vscode": {
     "languageId": "plaintext"
    }
   },
   "outputs": [],
   "source": [
    "# fraud_detection.ipynb\n",
    "\n",
    "import pandas as pd\n",
    "import matplotlib.pyplot as plt\n",
    "import seaborn as sns\n",
    "from sklearn.ensemble import IsolationForest\n",
    "from sklearn.svm import OneClassSVM\n",
    "from sklearn.preprocessing import StandardScaler\n",
    "from sklearn.metrics import classification_report, confusion_matrix\n",
    "\n",
    "# Load dataset\n",
    "df = pd.read_csv('../dataset/creditcard.csv')\n",
    "print(df.head())\n",
    "\n",
    "# Check for imbalance\n",
    "print(df['Class'].value_counts())\n",
    "\n",
    "# Standardize features\n",
    "scaler = StandardScaler()\n",
    "X_scaled = scaler.fit_transform(df.drop(['Class'], axis=1))\n",
    "y = df['Class']\n",
    "\n",
    "# Model 1: Isolation Forest\n",
    "iso_forest = IsolationForest(contamination=0.001)\n",
    "y_pred_iso = iso_forest.fit_predict(X_scaled)\n",
    "y_pred_iso = [1 if x == -1 else 0 for x in y_pred_iso]\n",
    "\n",
    "# Model 2: One-Class SVM\n",
    "oc_svm = OneClassSVM(nu=0.001, kernel='rbf', gamma=0.01)\n",
    "y_pred_svm = oc_svm.fit_predict(X_scaled)\n",
    "y_pred_svm = [1 if x == -1 else 0 for x in y_pred_svm]\n",
    "\n",
    "# Evaluation\n",
    "print(\"Isolation Forest:\")\n",
    "print(confusion_matrix(y, y_pred_iso))\n",
    "print(classification_report(y, y_pred_iso))\n",
    "\n",
    "print(\"One-Class SVM:\")\n",
    "print(confusion_matrix(y, y_pred_svm))\n",
    "print(classification_report(y, y_pred_svm))\n"
   ]
  }
 ],
 "metadata": {
  "language_info": {
   "name": "python"
  }
 },
 "nbformat": 4,
 "nbformat_minor": 2
}
